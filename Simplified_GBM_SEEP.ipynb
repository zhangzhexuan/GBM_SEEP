{
 "cells": [
  {
   "cell_type": "markdown",
   "metadata": {
    "id": "6kXji9yreziF"
   },
   "source": [
    "# GBM_SEEP（simplified version）"
   ]
  },
  {
   "cell_type": "markdown",
   "metadata": {
    "id": "yD70kpVLe4gT"
   },
   "source": [
    "## Step I: Importing the datasets and training the data"
   ]
  },
  {
   "cell_type": "code",
   "execution_count": null,
   "metadata": {
    "id": "J8IzllpRevTm"
   },
   "outputs": [],
   "source": [
    "import numpy as np\n",
    "import matplotlib.pyplot as plt\n",
    "import pandas as pd\n",
    "import lightgbm as lgb\n",
    "\n",
    "#import the global dataset\n",
    "dataset = pd.read_csv('globalbrgdgtlabel.csv')\n",
    "X = dataset.iloc[:, :-1].values\n",
    "y = dataset.iloc[:, -1].values\n",
    "\n",
    "#import your own dataset\n",
    "dataset2 = pd.read_csv('Yourdataset.csv')\n",
    "X_template = dataset2.iloc[:, :-1].values\n",
    "depth_template = dataset2.iloc[:, -1].values\n",
    "\n",
    "from sklearn.model_selection import train_test_split\n",
    "X_train, X_test, y_train, y_test = train_test_split(X, y, test_size = 0.25, random_state = 0)\n",
    "\n",
    "from imblearn.over_sampling import SMOTE\n",
    "# transform the dataset\n",
    "oversample = SMOTE(random_state=11)\n",
    "X_train, y_train = oversample.fit_resample(X_train, y_train)\n",
    "\n",
    "# train the data using LightGBM\n",
    "from lightgbm import LGBMClassifier\n",
    "GBM_SEEP = LGBMClassifier()\n",
    "GBM_SEEP.fit(X_train, y_train)"
   ]
  },
  {
   "cell_type": "markdown",
   "metadata": {
    "id": "drsGba0ue-bK"
   },
   "source": [
    "## Step II: Making prediction using your own data"
   ]
  },
  {
   "cell_type": "code",
   "execution_count": null,
   "metadata": {
    "id": "3aymmqZOfCbb"
   },
   "outputs": [],
   "source": [
    "y_predtemplate = GBM_SEEP.predict(X_template)\n",
    "dct=GBM_SEEP.predict_proba(X_template)\n",
    "df2 = pd.DataFrame(dct)\n",
    "df2.to_csv('probability.csv')"
   ]
  },
  {
   "cell_type": "code",
   "execution_count": null,
   "metadata": {
    "id": "qCyi_ePffENi"
   },
   "outputs": [],
   "source": [
    "#seep-type probability\n",
    "plt.stackplot(depth_template,df2[1],colors =['#E64B35FF'])\n",
    "plt.savefig(\"seep.pdf\", format='pdf', dpi=1000, bbox_inches='tight')"
   ]
  },
  {
   "cell_type": "code",
   "execution_count": null,
   "metadata": {
    "id": "fPk55hkifF8K"
   },
   "outputs": [],
   "source": [
    "#marine-type probability\n",
    "plt.stackplot(depth_template,df2[0],colors =['#3C5488FF'])\n",
    "plt.savefig(\"marine.pdf\", format='pdf', dpi=1000, bbox_inches='tight')"
   ]
  },
  {
   "cell_type": "code",
   "execution_count": null,
   "metadata": {
    "id": "dbeZzbuCfHk7"
   },
   "outputs": [],
   "source": [
    "#soil-type probability\n",
    "plt.stackplot(depth_template,df2[2],colors =['#4DBBD5FF'])\n",
    "plt.savefig(\"soil.pdf\", format='pdf', dpi=1000, bbox_inches='tight')"
   ]
  }
 ],
 "metadata": {
  "colab": {
   "provenance": []
  },
  "kernelspec": {
   "display_name": "Python 3",
   "language": "python",
   "name": "python3"
  },
  "language_info": {
   "codemirror_mode": {
    "name": "ipython",
    "version": 3
   },
   "file_extension": ".py",
   "mimetype": "text/x-python",
   "name": "python",
   "nbconvert_exporter": "python",
   "pygments_lexer": "ipython3",
   "version": "3.7.6"
  }
 },
 "nbformat": 4,
 "nbformat_minor": 1
}
